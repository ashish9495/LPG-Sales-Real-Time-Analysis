{
  "nbformat": 4,
  "nbformat_minor": 0,
  "metadata": {
    "colab": {
      "name": "LPG_Modeldrivenmethods.ipynb",
      "provenance": [],
      "collapsed_sections": [],
      "authorship_tag": "ABX9TyOQmaTWnk8VJIztPg0zCBmS",
      "include_colab_link": true
    },
    "kernelspec": {
      "name": "python3",
      "display_name": "Python 3"
    }
  },
  "cells": [
    {
      "cell_type": "markdown",
      "metadata": {
        "id": "view-in-github",
        "colab_type": "text"
      },
      "source": [
        "<a href=\"https://colab.research.google.com/github/Anusha-T8/LPG_SALES_FORECAST/blob/main/LPG_Modeldrivenmethods.ipynb\" target=\"_parent\"><img src=\"https://colab.research.google.com/assets/colab-badge.svg\" alt=\"Open In Colab\"/></a>"
      ]
    },
    {
      "cell_type": "code",
      "metadata": {
        "id": "Osd3-Lfp_B-y"
      },
      "source": [
        "import pandas as pd\n",
        "import numpy as np\n",
        "import matplotlib.pyplot as plt\n",
        "%matplotlib inline\n",
        " \n",
        "import seaborn as sns"
      ],
      "execution_count": null,
      "outputs": []
    },
    {
      "cell_type": "code",
      "metadata": {
        "id": "nkzk8bZS_Sk_"
      },
      "source": [
        "df=pd.read_csv(\"/content/total-liquefied-petroleum-gas-sales-quarterly.csv\")"
      ],
      "execution_count": null,
      "outputs": []
    },
    {
      "cell_type": "code",
      "metadata": {
        "id": "evuVSvzB_jPD"
      },
      "source": [
        "del df['level_1']"
      ],
      "execution_count": null,
      "outputs": []
    },
    {
      "cell_type": "code",
      "metadata": {
        "colab": {
          "base_uri": "https://localhost:8080/",
          "height": 195
        },
        "id": "UPo6LkQWAQPw",
        "outputId": "6f6eeaa8-39ac-472e-af2a-aba7f3423e63"
      },
      "source": [
        "df.head()"
      ],
      "execution_count": null,
      "outputs": [
        {
          "output_type": "execute_result",
          "data": {
            "text/html": [
              "<div>\n",
              "<style scoped>\n",
              "    .dataframe tbody tr th:only-of-type {\n",
              "        vertical-align: middle;\n",
              "    }\n",
              "\n",
              "    .dataframe tbody tr th {\n",
              "        vertical-align: top;\n",
              "    }\n",
              "\n",
              "    .dataframe thead th {\n",
              "        text-align: right;\n",
              "    }\n",
              "</style>\n",
              "<table border=\"1\" class=\"dataframe\">\n",
              "  <thead>\n",
              "    <tr style=\"text-align: right;\">\n",
              "      <th></th>\n",
              "      <th>quarter</th>\n",
              "      <th>value</th>\n",
              "    </tr>\n",
              "  </thead>\n",
              "  <tbody>\n",
              "    <tr>\n",
              "      <th>0</th>\n",
              "      <td>1994-Q1</td>\n",
              "      <td>29226.3</td>\n",
              "    </tr>\n",
              "    <tr>\n",
              "      <th>1</th>\n",
              "      <td>1994-Q2</td>\n",
              "      <td>38153.9</td>\n",
              "    </tr>\n",
              "    <tr>\n",
              "      <th>2</th>\n",
              "      <td>1994-Q3</td>\n",
              "      <td>39414.7</td>\n",
              "    </tr>\n",
              "    <tr>\n",
              "      <th>3</th>\n",
              "      <td>1994-Q4</td>\n",
              "      <td>37600.3</td>\n",
              "    </tr>\n",
              "    <tr>\n",
              "      <th>4</th>\n",
              "      <td>1995-Q1</td>\n",
              "      <td>34100.6</td>\n",
              "    </tr>\n",
              "  </tbody>\n",
              "</table>\n",
              "</div>"
            ],
            "text/plain": [
              "   quarter    value\n",
              "0  1994-Q1  29226.3\n",
              "1  1994-Q2  38153.9\n",
              "2  1994-Q3  39414.7\n",
              "3  1994-Q4  37600.3\n",
              "4  1995-Q1  34100.6"
            ]
          },
          "metadata": {
            "tags": []
          },
          "execution_count": 5
        }
      ]
    },
    {
      "cell_type": "code",
      "metadata": {
        "colab": {
          "base_uri": "https://localhost:8080/"
        },
        "id": "aD7JfQCuApTY",
        "outputId": "43df3a2c-cf92-46db-f09a-e9e5d4a9d4fa"
      },
      "source": [
        "df.shape"
      ],
      "execution_count": null,
      "outputs": [
        {
          "output_type": "execute_result",
          "data": {
            "text/plain": [
              "(102, 3)"
            ]
          },
          "metadata": {
            "tags": []
          },
          "execution_count": 8
        }
      ]
    },
    {
      "cell_type": "code",
      "metadata": {
        "id": "qXNK1-AkASY-"
      },
      "source": [
        "Quarter=['Q1','Q2','Q3','Q4']\n",
        "n=df['quarter'][0]\n",
        "n[5:]\n",
        "df['Quarter']=0"
      ],
      "execution_count": null,
      "outputs": []
    },
    {
      "cell_type": "code",
      "metadata": {
        "colab": {
          "base_uri": "https://localhost:8080/"
        },
        "id": "jypRIBYQAbz3",
        "outputId": "1b297772-4d03-4861-87d4-269626091d07"
      },
      "source": [
        "for i in range(102):\n",
        "    n=df['quarter'][i]\n",
        "    df['Quarter'][i]=n[5:]"
      ],
      "execution_count": null,
      "outputs": [
        {
          "output_type": "stream",
          "text": [
            "/usr/local/lib/python3.6/dist-packages/ipykernel_launcher.py:3: SettingWithCopyWarning: \n",
            "A value is trying to be set on a copy of a slice from a DataFrame\n",
            "\n",
            "See the caveats in the documentation: https://pandas.pydata.org/pandas-docs/stable/user_guide/indexing.html#returning-a-view-versus-a-copy\n",
            "  This is separate from the ipykernel package so we can avoid doing imports until\n",
            "/usr/local/lib/python3.6/dist-packages/pandas/core/indexing.py:670: SettingWithCopyWarning: \n",
            "A value is trying to be set on a copy of a slice from a DataFrame\n",
            "\n",
            "See the caveats in the documentation: https://pandas.pydata.org/pandas-docs/stable/user_guide/indexing.html#returning-a-view-versus-a-copy\n",
            "  iloc._setitem_with_indexer(indexer, value)\n"
          ],
          "name": "stderr"
        }
      ]
    },
    {
      "cell_type": "code",
      "metadata": {
        "id": "Mz8HV8ZaAzrd"
      },
      "source": [
        "dummy=pd.DataFrame(pd.get_dummies(df['Quarter']))\n",
        "df1=pd.concat((df,dummy),axis=1)"
      ],
      "execution_count": null,
      "outputs": []
    },
    {
      "cell_type": "code",
      "metadata": {
        "colab": {
          "base_uri": "https://localhost:8080/",
          "height": 195
        },
        "id": "1HKtqYDUBElh",
        "outputId": "cf5eb32b-1f14-4081-9939-89aefdf011c4"
      },
      "source": [
        "df1.head()"
      ],
      "execution_count": null,
      "outputs": [
        {
          "output_type": "execute_result",
          "data": {
            "text/html": [
              "<div>\n",
              "<style scoped>\n",
              "    .dataframe tbody tr th:only-of-type {\n",
              "        vertical-align: middle;\n",
              "    }\n",
              "\n",
              "    .dataframe tbody tr th {\n",
              "        vertical-align: top;\n",
              "    }\n",
              "\n",
              "    .dataframe thead th {\n",
              "        text-align: right;\n",
              "    }\n",
              "</style>\n",
              "<table border=\"1\" class=\"dataframe\">\n",
              "  <thead>\n",
              "    <tr style=\"text-align: right;\">\n",
              "      <th></th>\n",
              "      <th>quarter</th>\n",
              "      <th>value</th>\n",
              "      <th>Quarter</th>\n",
              "      <th>Q1</th>\n",
              "      <th>Q2</th>\n",
              "      <th>Q3</th>\n",
              "      <th>Q4</th>\n",
              "    </tr>\n",
              "  </thead>\n",
              "  <tbody>\n",
              "    <tr>\n",
              "      <th>0</th>\n",
              "      <td>1994-Q1</td>\n",
              "      <td>29226.3</td>\n",
              "      <td>Q1</td>\n",
              "      <td>1</td>\n",
              "      <td>0</td>\n",
              "      <td>0</td>\n",
              "      <td>0</td>\n",
              "    </tr>\n",
              "    <tr>\n",
              "      <th>1</th>\n",
              "      <td>1994-Q2</td>\n",
              "      <td>38153.9</td>\n",
              "      <td>Q2</td>\n",
              "      <td>0</td>\n",
              "      <td>1</td>\n",
              "      <td>0</td>\n",
              "      <td>0</td>\n",
              "    </tr>\n",
              "    <tr>\n",
              "      <th>2</th>\n",
              "      <td>1994-Q3</td>\n",
              "      <td>39414.7</td>\n",
              "      <td>Q3</td>\n",
              "      <td>0</td>\n",
              "      <td>0</td>\n",
              "      <td>1</td>\n",
              "      <td>0</td>\n",
              "    </tr>\n",
              "    <tr>\n",
              "      <th>3</th>\n",
              "      <td>1994-Q4</td>\n",
              "      <td>37600.3</td>\n",
              "      <td>Q4</td>\n",
              "      <td>0</td>\n",
              "      <td>0</td>\n",
              "      <td>0</td>\n",
              "      <td>1</td>\n",
              "    </tr>\n",
              "    <tr>\n",
              "      <th>4</th>\n",
              "      <td>1995-Q1</td>\n",
              "      <td>34100.6</td>\n",
              "      <td>Q1</td>\n",
              "      <td>1</td>\n",
              "      <td>0</td>\n",
              "      <td>0</td>\n",
              "      <td>0</td>\n",
              "    </tr>\n",
              "  </tbody>\n",
              "</table>\n",
              "</div>"
            ],
            "text/plain": [
              "   quarter    value Quarter  Q1  Q2  Q3  Q4\n",
              "0  1994-Q1  29226.3      Q1   1   0   0   0\n",
              "1  1994-Q2  38153.9      Q2   0   1   0   0\n",
              "2  1994-Q3  39414.7      Q3   0   0   1   0\n",
              "3  1994-Q4  37600.3      Q4   0   0   0   1\n",
              "4  1995-Q1  34100.6      Q1   1   0   0   0"
            ]
          },
          "metadata": {
            "tags": []
          },
          "execution_count": 19
        }
      ]
    },
    {
      "cell_type": "code",
      "metadata": {
        "id": "z4B_h3KHBHDC"
      },
      "source": [
        "t= np.arange(1,103)\n",
        "df1['t']=t\n",
        "df1['t_square']=df1['t']*df1['t']"
      ],
      "execution_count": null,
      "outputs": []
    },
    {
      "cell_type": "code",
      "metadata": {
        "id": "FPjBqUbwB270"
      },
      "source": [
        "log_value=np.log(df1['value'])\n",
        "df1['log_value']=log_value"
      ],
      "execution_count": null,
      "outputs": []
    },
    {
      "cell_type": "code",
      "metadata": {
        "colab": {
          "base_uri": "https://localhost:8080/",
          "height": 195
        },
        "id": "vkTBV-6ECHTq",
        "outputId": "ecccbf18-4cc8-4f59-f25a-e87a1ee4c815"
      },
      "source": [
        "df1.head()"
      ],
      "execution_count": null,
      "outputs": [
        {
          "output_type": "execute_result",
          "data": {
            "text/html": [
              "<div>\n",
              "<style scoped>\n",
              "    .dataframe tbody tr th:only-of-type {\n",
              "        vertical-align: middle;\n",
              "    }\n",
              "\n",
              "    .dataframe tbody tr th {\n",
              "        vertical-align: top;\n",
              "    }\n",
              "\n",
              "    .dataframe thead th {\n",
              "        text-align: right;\n",
              "    }\n",
              "</style>\n",
              "<table border=\"1\" class=\"dataframe\">\n",
              "  <thead>\n",
              "    <tr style=\"text-align: right;\">\n",
              "      <th></th>\n",
              "      <th>quarter</th>\n",
              "      <th>value</th>\n",
              "      <th>Quarter</th>\n",
              "      <th>Q1</th>\n",
              "      <th>Q2</th>\n",
              "      <th>Q3</th>\n",
              "      <th>Q4</th>\n",
              "      <th>t</th>\n",
              "      <th>t_square</th>\n",
              "      <th>log_value</th>\n",
              "    </tr>\n",
              "  </thead>\n",
              "  <tbody>\n",
              "    <tr>\n",
              "      <th>0</th>\n",
              "      <td>1994-Q1</td>\n",
              "      <td>29226.3</td>\n",
              "      <td>Q1</td>\n",
              "      <td>1</td>\n",
              "      <td>0</td>\n",
              "      <td>0</td>\n",
              "      <td>0</td>\n",
              "      <td>1</td>\n",
              "      <td>1</td>\n",
              "      <td>10.282824</td>\n",
              "    </tr>\n",
              "    <tr>\n",
              "      <th>1</th>\n",
              "      <td>1994-Q2</td>\n",
              "      <td>38153.9</td>\n",
              "      <td>Q2</td>\n",
              "      <td>0</td>\n",
              "      <td>1</td>\n",
              "      <td>0</td>\n",
              "      <td>0</td>\n",
              "      <td>2</td>\n",
              "      <td>4</td>\n",
              "      <td>10.549383</td>\n",
              "    </tr>\n",
              "    <tr>\n",
              "      <th>2</th>\n",
              "      <td>1994-Q3</td>\n",
              "      <td>39414.7</td>\n",
              "      <td>Q3</td>\n",
              "      <td>0</td>\n",
              "      <td>0</td>\n",
              "      <td>1</td>\n",
              "      <td>0</td>\n",
              "      <td>3</td>\n",
              "      <td>9</td>\n",
              "      <td>10.581894</td>\n",
              "    </tr>\n",
              "    <tr>\n",
              "      <th>3</th>\n",
              "      <td>1994-Q4</td>\n",
              "      <td>37600.3</td>\n",
              "      <td>Q4</td>\n",
              "      <td>0</td>\n",
              "      <td>0</td>\n",
              "      <td>0</td>\n",
              "      <td>1</td>\n",
              "      <td>4</td>\n",
              "      <td>16</td>\n",
              "      <td>10.534767</td>\n",
              "    </tr>\n",
              "    <tr>\n",
              "      <th>4</th>\n",
              "      <td>1995-Q1</td>\n",
              "      <td>34100.6</td>\n",
              "      <td>Q1</td>\n",
              "      <td>1</td>\n",
              "      <td>0</td>\n",
              "      <td>0</td>\n",
              "      <td>0</td>\n",
              "      <td>5</td>\n",
              "      <td>25</td>\n",
              "      <td>10.437070</td>\n",
              "    </tr>\n",
              "  </tbody>\n",
              "</table>\n",
              "</div>"
            ],
            "text/plain": [
              "   quarter    value Quarter  Q1  Q2  Q3  Q4  t  t_square  log_value\n",
              "0  1994-Q1  29226.3      Q1   1   0   0   0  1         1  10.282824\n",
              "1  1994-Q2  38153.9      Q2   0   1   0   0  2         4  10.549383\n",
              "2  1994-Q3  39414.7      Q3   0   0   1   0  3         9  10.581894\n",
              "3  1994-Q4  37600.3      Q4   0   0   0   1  4        16  10.534767\n",
              "4  1995-Q1  34100.6      Q1   1   0   0   0  5        25  10.437070"
            ]
          },
          "metadata": {
            "tags": []
          },
          "execution_count": 25
        }
      ]
    },
    {
      "cell_type": "code",
      "metadata": {
        "id": "T1Bqg20UCKcA"
      },
      "source": [
        "df1.to_excel(\"requiredforprediction.xlsx\")"
      ],
      "execution_count": null,
      "outputs": []
    },
    {
      "cell_type": "code",
      "metadata": {
        "colab": {
          "base_uri": "https://localhost:8080/",
          "height": 282
        },
        "id": "yOe_eadMCkIq",
        "outputId": "16bbb232-a7ac-489a-da60-9a5eff7f6f77"
      },
      "source": [
        "df1.value.plot()"
      ],
      "execution_count": null,
      "outputs": [
        {
          "output_type": "execute_result",
          "data": {
            "text/plain": [
              "<matplotlib.axes._subplots.AxesSubplot at 0x7f158e662668>"
            ]
          },
          "metadata": {
            "tags": []
          },
          "execution_count": 30
        },
        {
          "output_type": "display_data",
          "data": {
            "image/png": "[encoded data removed]",
            "text/plain": [
              "<Figure size 432x288 with 1 Axes>"
            ]
          },
          "metadata": {
            "tags": [],
            "needs_background": "light"
          }
        }
      ]
    },
    {
      "cell_type": "code",
      "metadata": {
        "id": "DNN43iyeCz3U"
      },
      "source": [
        "Train=df1.head(81)\n",
        "Test=df1.tail(21)"
      ],
      "execution_count": null,
      "outputs": []
    },
    {
      "cell_type": "code",
      "metadata": {
        "colab": {
          "base_uri": "https://localhost:8080/"
        },
        "id": "WarXpMCRDL6a",
        "outputId": "0fce196a-bbee-4f72-b3e4-10a2c4fd2603"
      },
      "source": [
        "import statsmodels.formula.api as smf"
      ],
      "execution_count": null,
      "outputs": [
        {
          "output_type": "stream",
          "text": [
            "/usr/local/lib/python3.6/dist-packages/statsmodels/tools/_testing.py:19: FutureWarning: pandas.util.testing is deprecated. Use the functions in the public API at pandas.testing instead.\n",
            "  import pandas.util.testing as tm\n"
          ],
          "name": "stderr"
        }
      ]
    },
    {
      "cell_type": "markdown",
      "metadata": {
        "id": "C7VtUaSaLeHk"
      },
      "source": [
        "LINEAR MODEL"
      ]
    },
    {
      "cell_type": "code",
      "metadata": {
        "colab": {
          "base_uri": "https://localhost:8080/"
        },
        "id": "CrNnCAgnDSf3",
        "outputId": "c2bfc535-61c2-4db9-e487-cb6d0fa30734"
      },
      "source": [
        "linear= smf.ols('value~t',data=Train).fit()\n",
        "predlin=pd.Series(linear.predict(pd.DataFrame(Test['t'])))\n",
        "rmselin=np.sqrt((np.mean(np.array(Test['value'])-np.array(predlin))**2))\n",
        "rmselin"
      ],
      "execution_count": null,
      "outputs": [
        {
          "output_type": "execute_result",
          "data": {
            "text/plain": [
              "979.9593361509145"
            ]
          },
          "metadata": {
            "tags": []
          },
          "execution_count": 34
        }
      ]
    },
    {
      "cell_type": "markdown",
      "metadata": {
        "id": "bb1sK2szLhqc"
      },
      "source": [
        "QUADRATIC MODEL"
      ]
    },
    {
      "cell_type": "code",
      "metadata": {
        "colab": {
          "base_uri": "https://localhost:8080/"
        },
        "id": "2MgBigenDolC",
        "outputId": "b9a2a937-481b-4d60-f213-2c092718b7c2"
      },
      "source": [
        "quad=smf.ols('value~t+t_square',data=Train).fit()\n",
        "predquad=pd.Series(quad.predict(pd.DataFrame(Test[['t','t_square']])))\n",
        "rmsequad=np.sqrt(np.mean((np.array(Test['value'])-np.array(predquad))**2))\n",
        "rmsequad"
      ],
      "execution_count": null,
      "outputs": [
        {
          "output_type": "execute_result",
          "data": {
            "text/plain": [
              "2370.9543570670867"
            ]
          },
          "metadata": {
            "tags": []
          },
          "execution_count": 35
        }
      ]
    },
    {
      "cell_type": "markdown",
      "metadata": {
        "id": "Kr8M5p5nLk6A"
      },
      "source": [
        "EXPONENTIAL MODEL"
      ]
    },
    {
      "cell_type": "code",
      "metadata": {
        "colab": {
          "base_uri": "https://localhost:8080/"
        },
        "id": "ezTxE6I7Dy1G",
        "outputId": "c385fa92-712a-410e-9fe4-5d53af35ca9e"
      },
      "source": [
        "expo=smf.ols('log_value~t',data=Train).fit()\n",
        "predexp=pd.Series(expo.predict(pd.DataFrame(Test['t'])))\n",
        "rmseexpo=np.sqrt(np.mean((np.array(Test['value'])-np.array(np.exp(predexp)))**2))\n",
        "rmseexpo"
      ],
      "execution_count": null,
      "outputs": [
        {
          "output_type": "execute_result",
          "data": {
            "text/plain": [
              "1620.9259461530353"
            ]
          },
          "metadata": {
            "tags": []
          },
          "execution_count": 36
        }
      ]
    },
    {
      "cell_type": "markdown",
      "metadata": {
        "id": "Hu4ZIMH3Lo9H"
      },
      "source": [
        "ADDITIVE SEASONALITY "
      ]
    },
    {
      "cell_type": "code",
      "metadata": {
        "colab": {
          "base_uri": "https://localhost:8080/"
        },
        "id": "1Ep2FCYhD7wT",
        "outputId": "7f272c1b-3b0d-437e-f61e-316a5b6e8da4"
      },
      "source": [
        "additive= smf.ols('value~ Q1+Q2+Q3+Q4',data=Train).fit()\n",
        "predadd=pd.Series(additive.predict(pd.DataFrame(Test[['Q1','Q2','Q3','Q4']])))\n",
        "rmseadd=np.sqrt(np.mean((np.array(Test['value'])-np.array(predadd))**2))\n",
        "rmseadd"
      ],
      "execution_count": null,
      "outputs": [
        {
          "output_type": "execute_result",
          "data": {
            "text/plain": [
              "6902.612572520001"
            ]
          },
          "metadata": {
            "tags": []
          },
          "execution_count": 37
        }
      ]
    },
    {
      "cell_type": "markdown",
      "metadata": {
        "id": "2e2TmlS1Ls2F"
      },
      "source": [
        "ADDITIVE SEASONALITY WITH LINEAR TREND"
      ]
    },
    {
      "cell_type": "code",
      "metadata": {
        "colab": {
          "base_uri": "https://localhost:8080/"
        },
        "id": "ipqZ7PfMEEsp",
        "outputId": "1f96dbc2-8609-41f7-f156-326f3c0dfa81"
      },
      "source": [
        "addlinear= smf.ols('value~t+Q1+Q2+Q3+Q4',data=Train).fit()\n",
        "predaddlinear=pd.Series(addlinear.predict(pd.DataFrame(Test[['t','Q1','Q2','Q3','Q4']])))\n",
        "rmseaddlinear=np.sqrt(np.mean((np.array(Test['value'])-np.array(predaddlinear))**2))\n",
        "rmseaddlinear"
      ],
      "execution_count": null,
      "outputs": [
        {
          "output_type": "execute_result",
          "data": {
            "text/plain": [
              "1303.766907108997"
            ]
          },
          "metadata": {
            "tags": []
          },
          "execution_count": 38
        }
      ]
    },
    {
      "cell_type": "markdown",
      "metadata": {
        "id": "vh8ljCeaLwbW"
      },
      "source": [
        "ADDITIVE SEASONALITY WITH QUADRATIC TREND"
      ]
    },
    {
      "cell_type": "code",
      "metadata": {
        "colab": {
          "base_uri": "https://localhost:8080/"
        },
        "id": "m63ahGEJEN-s",
        "outputId": "7371a3dd-9b20-4289-9483-7691d66408e3"
      },
      "source": [
        "addquad=smf.ols('value~t+t_square+Q1+Q2+Q3+Q4',data=Train).fit()\n",
        "predaddquad=pd.Series(addquad.predict(pd.DataFrame(Test[['t','t_square','Q1','Q2','Q3','Q4']])))\n",
        "rmseaddquad=np.sqrt(np.mean((np.array(Test['value'])-np.array(predaddquad))**2))\n",
        "rmseaddquad"
      ],
      "execution_count": null,
      "outputs": [
        {
          "output_type": "execute_result",
          "data": {
            "text/plain": [
              "2598.575351944335"
            ]
          },
          "metadata": {
            "tags": []
          },
          "execution_count": 39
        }
      ]
    },
    {
      "cell_type": "markdown",
      "metadata": {
        "id": "dW1p1O0XL0HM"
      },
      "source": [
        "MULTIPLICATIVE SEASONALITY"
      ]
    },
    {
      "cell_type": "code",
      "metadata": {
        "colab": {
          "base_uri": "https://localhost:8080/"
        },
        "id": "2J1gzI2ZEfKW",
        "outputId": "f7bbea56-7d44-4038-a2ef-d91595ec2470"
      },
      "source": [
        "mullin= smf.ols('log_value~t+Q1+Q2+Q3+Q4',data=Train).fit()\n",
        "predmullin= pd.Series(mullin.predict(pd.DataFrame(Test[['t','Q1','Q2','Q3','Q4']])))\n",
        "rmsemulin=np.sqrt(np.mean((np.array(Test['value'])-np.array(np.exp(predmullin)))**2))\n",
        "rmsemulin"
      ],
      "execution_count": null,
      "outputs": [
        {
          "output_type": "execute_result",
          "data": {
            "text/plain": [
              "1652.464094866996"
            ]
          },
          "metadata": {
            "tags": []
          },
          "execution_count": 42
        }
      ]
    },
    {
      "cell_type": "markdown",
      "metadata": {
        "id": "sR0-ptq8L4vG"
      },
      "source": [
        "MULTIPLICATIVE SEASONALITY WITH QUADRATIC TREND"
      ]
    },
    {
      "cell_type": "code",
      "metadata": {
        "colab": {
          "base_uri": "https://localhost:8080/"
        },
        "id": "IR02BWaLEvak",
        "outputId": "435a6423-583c-414a-d6f4-00449b9dc433"
      },
      "source": [
        "mul_quad= smf.ols('log_value~t+t_square+Q1+Q2+Q3+Q4',data=Train).fit()\n",
        "pred_mul_quad= pd.Series(mul_quad.predict(Test[['t','t_square','Q1','Q2','Q3','Q4']]))\n",
        "rmse_mul_quad=np.sqrt(np.mean((np.array(Test['value'])-np.array(np.exp(pred_mul_quad)))**2))\n",
        "rmse_mul_quad"
      ],
      "execution_count": null,
      "outputs": [
        {
          "output_type": "execute_result",
          "data": {
            "text/plain": [
              "2419.8544096619826"
            ]
          },
          "metadata": {
            "tags": []
          },
          "execution_count": 43
        }
      ]
    },
    {
      "cell_type": "code",
      "metadata": {
        "colab": {
          "base_uri": "https://localhost:8080/",
          "height": 284
        },
        "id": "lkZc12DnE-Vp",
        "outputId": "1a3d2a2f-05d1-4101-bf63-5e409e8f45fa"
      },
      "source": [
        "Table={'Model':pd.Series(['rmselin','rmsequad','rmseexpo','rmseadd','rmseaddlinear','rmseaddquad','rmsemulin','rmse_mul_quad']),'Values':pd.Series([rmselin,rmsequad,rmseexpo,rmseadd,rmseaddlinear,rmseaddquad,rmsemulin,rmse_mul_quad])}\n",
        "RMSE_Table=pd.DataFrame(Table)\n",
        "RMSE_Table"
      ],
      "execution_count": null,
      "outputs": [
        {
          "output_type": "execute_result",
          "data": {
            "text/html": [
              "<div>\n",
              "<style scoped>\n",
              "    .dataframe tbody tr th:only-of-type {\n",
              "        vertical-align: middle;\n",
              "    }\n",
              "\n",
              "    .dataframe tbody tr th {\n",
              "        vertical-align: top;\n",
              "    }\n",
              "\n",
              "    .dataframe thead th {\n",
              "        text-align: right;\n",
              "    }\n",
              "</style>\n",
              "<table border=\"1\" class=\"dataframe\">\n",
              "  <thead>\n",
              "    <tr style=\"text-align: right;\">\n",
              "      <th></th>\n",
              "      <th>Model</th>\n",
              "      <th>Values</th>\n",
              "    </tr>\n",
              "  </thead>\n",
              "  <tbody>\n",
              "    <tr>\n",
              "      <th>0</th>\n",
              "      <td>rmselin</td>\n",
              "      <td>979.959336</td>\n",
              "    </tr>\n",
              "    <tr>\n",
              "      <th>1</th>\n",
              "      <td>rmsequad</td>\n",
              "      <td>2370.954357</td>\n",
              "    </tr>\n",
              "    <tr>\n",
              "      <th>2</th>\n",
              "      <td>rmseexpo</td>\n",
              "      <td>1620.925946</td>\n",
              "    </tr>\n",
              "    <tr>\n",
              "      <th>3</th>\n",
              "      <td>rmseadd</td>\n",
              "      <td>6902.612573</td>\n",
              "    </tr>\n",
              "    <tr>\n",
              "      <th>4</th>\n",
              "      <td>rmseaddlinear</td>\n",
              "      <td>1303.766907</td>\n",
              "    </tr>\n",
              "    <tr>\n",
              "      <th>5</th>\n",
              "      <td>rmseaddquad</td>\n",
              "      <td>2598.575352</td>\n",
              "    </tr>\n",
              "    <tr>\n",
              "      <th>6</th>\n",
              "      <td>rmsemulin</td>\n",
              "      <td>1652.464095</td>\n",
              "    </tr>\n",
              "    <tr>\n",
              "      <th>7</th>\n",
              "      <td>rmse_mul_quad</td>\n",
              "      <td>2419.854410</td>\n",
              "    </tr>\n",
              "  </tbody>\n",
              "</table>\n",
              "</div>"
            ],
            "text/plain": [
              "           Model       Values\n",
              "0        rmselin   979.959336\n",
              "1       rmsequad  2370.954357\n",
              "2       rmseexpo  1620.925946\n",
              "3        rmseadd  6902.612573\n",
              "4  rmseaddlinear  1303.766907\n",
              "5    rmseaddquad  2598.575352\n",
              "6      rmsemulin  1652.464095\n",
              "7  rmse_mul_quad  2419.854410"
            ]
          },
          "metadata": {
            "tags": []
          },
          "execution_count": 44
        }
      ]
    },
    {
      "cell_type": "code",
      "metadata": {
        "id": "KxjeTIV-IHQE"
      },
      "source": [
        "pred=pd.read_excel(\"/content/requiredforprediction.xlsx\",index_col=0)"
      ],
      "execution_count": null,
      "outputs": []
    },
    {
      "cell_type": "code",
      "metadata": {
        "colab": {
          "base_uri": "https://localhost:8080/",
          "height": 195
        },
        "id": "P2Ph3OueIQPN",
        "outputId": "038a345f-32b4-41be-9f93-76a1393d669a"
      },
      "source": [
        "pred.head()"
      ],
      "execution_count": null,
      "outputs": [
        {
          "output_type": "execute_result",
          "data": {
            "text/html": [
              "<div>\n",
              "<style scoped>\n",
              "    .dataframe tbody tr th:only-of-type {\n",
              "        vertical-align: middle;\n",
              "    }\n",
              "\n",
              "    .dataframe tbody tr th {\n",
              "        vertical-align: top;\n",
              "    }\n",
              "\n",
              "    .dataframe thead th {\n",
              "        text-align: right;\n",
              "    }\n",
              "</style>\n",
              "<table border=\"1\" class=\"dataframe\">\n",
              "  <thead>\n",
              "    <tr style=\"text-align: right;\">\n",
              "      <th></th>\n",
              "      <th>quarter</th>\n",
              "      <th>value</th>\n",
              "      <th>Quarter</th>\n",
              "      <th>Q1</th>\n",
              "      <th>Q2</th>\n",
              "      <th>Q3</th>\n",
              "      <th>Q4</th>\n",
              "      <th>t</th>\n",
              "      <th>t_square</th>\n",
              "      <th>log_value</th>\n",
              "    </tr>\n",
              "  </thead>\n",
              "  <tbody>\n",
              "    <tr>\n",
              "      <th>82</th>\n",
              "      <td>2014-Q3</td>\n",
              "      <td>23965.3</td>\n",
              "      <td>Q3</td>\n",
              "      <td>0</td>\n",
              "      <td>0</td>\n",
              "      <td>1</td>\n",
              "      <td>0</td>\n",
              "      <td>83</td>\n",
              "      <td>6889</td>\n",
              "      <td>10.084362</td>\n",
              "    </tr>\n",
              "    <tr>\n",
              "      <th>83</th>\n",
              "      <td>2014-Q4</td>\n",
              "      <td>23474.8</td>\n",
              "      <td>Q4</td>\n",
              "      <td>0</td>\n",
              "      <td>0</td>\n",
              "      <td>0</td>\n",
              "      <td>1</td>\n",
              "      <td>84</td>\n",
              "      <td>7056</td>\n",
              "      <td>10.063683</td>\n",
              "    </tr>\n",
              "    <tr>\n",
              "      <th>84</th>\n",
              "      <td>2015-Q1</td>\n",
              "      <td>23384.8</td>\n",
              "      <td>Q1</td>\n",
              "      <td>1</td>\n",
              "      <td>0</td>\n",
              "      <td>0</td>\n",
              "      <td>0</td>\n",
              "      <td>85</td>\n",
              "      <td>7225</td>\n",
              "      <td>10.059842</td>\n",
              "    </tr>\n",
              "    <tr>\n",
              "      <th>85</th>\n",
              "      <td>2015-Q2</td>\n",
              "      <td>23808.7</td>\n",
              "      <td>Q2</td>\n",
              "      <td>0</td>\n",
              "      <td>1</td>\n",
              "      <td>0</td>\n",
              "      <td>0</td>\n",
              "      <td>86</td>\n",
              "      <td>7396</td>\n",
              "      <td>10.077806</td>\n",
              "    </tr>\n",
              "    <tr>\n",
              "      <th>86</th>\n",
              "      <td>2015-Q3</td>\n",
              "      <td>24311.7</td>\n",
              "      <td>Q3</td>\n",
              "      <td>0</td>\n",
              "      <td>0</td>\n",
              "      <td>1</td>\n",
              "      <td>0</td>\n",
              "      <td>87</td>\n",
              "      <td>7569</td>\n",
              "      <td>10.098713</td>\n",
              "    </tr>\n",
              "  </tbody>\n",
              "</table>\n",
              "</div>"
            ],
            "text/plain": [
              "    quarter    value Quarter  Q1  Q2  Q3  Q4   t  t_square  log_value\n",
              "82  2014-Q3  23965.3      Q3   0   0   1   0  83      6889  10.084362\n",
              "83  2014-Q4  23474.8      Q4   0   0   0   1  84      7056  10.063683\n",
              "84  2015-Q1  23384.8      Q1   1   0   0   0  85      7225  10.059842\n",
              "85  2015-Q2  23808.7      Q2   0   1   0   0  86      7396  10.077806\n",
              "86  2015-Q3  24311.7      Q3   0   0   1   0  87      7569  10.098713"
            ]
          },
          "metadata": {
            "tags": []
          },
          "execution_count": 55
        }
      ]
    },
    {
      "cell_type": "markdown",
      "metadata": {
        "id": "DJwUYszWL_nC"
      },
      "source": [
        "Linear model is choosen as good fit for prediction"
      ]
    },
    {
      "cell_type": "code",
      "metadata": {
        "id": "d20DIIS7FLP2"
      },
      "source": [
        "final_pred=smf.ols('value~t',data=df1).fit()"
      ],
      "execution_count": null,
      "outputs": []
    },
    {
      "cell_type": "code",
      "metadata": {
        "colab": {
          "base_uri": "https://localhost:8080/",
          "height": 639
        },
        "id": "w-lgFsn9Fixv",
        "outputId": "3c75636e-f710-41e5-e8ee-27b175e31b1f"
      },
      "source": [
        "pred_new = pd.Series(linear.predict(pred))\n",
        "pred_new\n",
        "\n",
        "pred[\"forecasted_value\"] = pd.Series(pred_new)\n",
        "\n",
        "pred"
      ],
      "execution_count": null,
      "outputs": [
        {
          "output_type": "execute_result",
          "data": {
            "text/html": [
              "<div>\n",
              "<style scoped>\n",
              "    .dataframe tbody tr th:only-of-type {\n",
              "        vertical-align: middle;\n",
              "    }\n",
              "\n",
              "    .dataframe tbody tr th {\n",
              "        vertical-align: top;\n",
              "    }\n",
              "\n",
              "    .dataframe thead th {\n",
              "        text-align: right;\n",
              "    }\n",
              "</style>\n",
              "<table border=\"1\" class=\"dataframe\">\n",
              "  <thead>\n",
              "    <tr style=\"text-align: right;\">\n",
              "      <th></th>\n",
              "      <th>quarter</th>\n",
              "      <th>value</th>\n",
              "      <th>Quarter</th>\n",
              "      <th>Q1</th>\n",
              "      <th>Q2</th>\n",
              "      <th>Q3</th>\n",
              "      <th>Q4</th>\n",
              "      <th>t</th>\n",
              "      <th>t_square</th>\n",
              "      <th>log_value</th>\n",
              "      <th>forecasted_value</th>\n",
              "    </tr>\n",
              "  </thead>\n",
              "  <tbody>\n",
              "    <tr>\n",
              "      <th>82</th>\n",
              "      <td>2014-Q3</td>\n",
              "      <td>23965.3</td>\n",
              "      <td>Q3</td>\n",
              "      <td>0</td>\n",
              "      <td>0</td>\n",
              "      <td>1</td>\n",
              "      <td>0</td>\n",
              "      <td>83</td>\n",
              "      <td>6889</td>\n",
              "      <td>10.084362</td>\n",
              "      <td>25018.723811</td>\n",
              "    </tr>\n",
              "    <tr>\n",
              "      <th>83</th>\n",
              "      <td>2014-Q4</td>\n",
              "      <td>23474.8</td>\n",
              "      <td>Q4</td>\n",
              "      <td>0</td>\n",
              "      <td>0</td>\n",
              "      <td>0</td>\n",
              "      <td>1</td>\n",
              "      <td>84</td>\n",
              "      <td>7056</td>\n",
              "      <td>10.063683</td>\n",
              "      <td>24905.248393</td>\n",
              "    </tr>\n",
              "    <tr>\n",
              "      <th>84</th>\n",
              "      <td>2015-Q1</td>\n",
              "      <td>23384.8</td>\n",
              "      <td>Q1</td>\n",
              "      <td>1</td>\n",
              "      <td>0</td>\n",
              "      <td>0</td>\n",
              "      <td>0</td>\n",
              "      <td>85</td>\n",
              "      <td>7225</td>\n",
              "      <td>10.059842</td>\n",
              "      <td>24791.772975</td>\n",
              "    </tr>\n",
              "    <tr>\n",
              "      <th>85</th>\n",
              "      <td>2015-Q2</td>\n",
              "      <td>23808.7</td>\n",
              "      <td>Q2</td>\n",
              "      <td>0</td>\n",
              "      <td>1</td>\n",
              "      <td>0</td>\n",
              "      <td>0</td>\n",
              "      <td>86</td>\n",
              "      <td>7396</td>\n",
              "      <td>10.077806</td>\n",
              "      <td>24678.297557</td>\n",
              "    </tr>\n",
              "    <tr>\n",
              "      <th>86</th>\n",
              "      <td>2015-Q3</td>\n",
              "      <td>24311.7</td>\n",
              "      <td>Q3</td>\n",
              "      <td>0</td>\n",
              "      <td>0</td>\n",
              "      <td>1</td>\n",
              "      <td>0</td>\n",
              "      <td>87</td>\n",
              "      <td>7569</td>\n",
              "      <td>10.098713</td>\n",
              "      <td>24564.822139</td>\n",
              "    </tr>\n",
              "    <tr>\n",
              "      <th>87</th>\n",
              "      <td>2015-Q4</td>\n",
              "      <td>25315.1</td>\n",
              "      <td>Q4</td>\n",
              "      <td>0</td>\n",
              "      <td>0</td>\n",
              "      <td>0</td>\n",
              "      <td>1</td>\n",
              "      <td>88</td>\n",
              "      <td>7744</td>\n",
              "      <td>10.139156</td>\n",
              "      <td>24451.346722</td>\n",
              "    </tr>\n",
              "    <tr>\n",
              "      <th>88</th>\n",
              "      <td>2016-Q1</td>\n",
              "      <td>23129.9</td>\n",
              "      <td>Q1</td>\n",
              "      <td>1</td>\n",
              "      <td>0</td>\n",
              "      <td>0</td>\n",
              "      <td>0</td>\n",
              "      <td>89</td>\n",
              "      <td>7921</td>\n",
              "      <td>10.048881</td>\n",
              "      <td>24337.871304</td>\n",
              "    </tr>\n",
              "    <tr>\n",
              "      <th>89</th>\n",
              "      <td>2016-Q2</td>\n",
              "      <td>23324.9</td>\n",
              "      <td>Q2</td>\n",
              "      <td>0</td>\n",
              "      <td>1</td>\n",
              "      <td>0</td>\n",
              "      <td>0</td>\n",
              "      <td>90</td>\n",
              "      <td>8100</td>\n",
              "      <td>10.057277</td>\n",
              "      <td>24224.395886</td>\n",
              "    </tr>\n",
              "    <tr>\n",
              "      <th>90</th>\n",
              "      <td>2016-Q3</td>\n",
              "      <td>23889.9</td>\n",
              "      <td>Q3</td>\n",
              "      <td>0</td>\n",
              "      <td>0</td>\n",
              "      <td>1</td>\n",
              "      <td>0</td>\n",
              "      <td>91</td>\n",
              "      <td>8281</td>\n",
              "      <td>10.081211</td>\n",
              "      <td>24110.920468</td>\n",
              "    </tr>\n",
              "    <tr>\n",
              "      <th>91</th>\n",
              "      <td>2016-Q4</td>\n",
              "      <td>23206.6</td>\n",
              "      <td>Q4</td>\n",
              "      <td>0</td>\n",
              "      <td>0</td>\n",
              "      <td>0</td>\n",
              "      <td>1</td>\n",
              "      <td>92</td>\n",
              "      <td>8464</td>\n",
              "      <td>10.052192</td>\n",
              "      <td>23997.445050</td>\n",
              "    </tr>\n",
              "    <tr>\n",
              "      <th>92</th>\n",
              "      <td>2017-Q1</td>\n",
              "      <td>21934.5</td>\n",
              "      <td>Q1</td>\n",
              "      <td>1</td>\n",
              "      <td>0</td>\n",
              "      <td>0</td>\n",
              "      <td>0</td>\n",
              "      <td>93</td>\n",
              "      <td>8649</td>\n",
              "      <td>9.995816</td>\n",
              "      <td>23883.969633</td>\n",
              "    </tr>\n",
              "    <tr>\n",
              "      <th>93</th>\n",
              "      <td>2017-Q2</td>\n",
              "      <td>22573.1</td>\n",
              "      <td>Q2</td>\n",
              "      <td>0</td>\n",
              "      <td>1</td>\n",
              "      <td>0</td>\n",
              "      <td>0</td>\n",
              "      <td>94</td>\n",
              "      <td>8836</td>\n",
              "      <td>10.024514</td>\n",
              "      <td>23770.494215</td>\n",
              "    </tr>\n",
              "    <tr>\n",
              "      <th>94</th>\n",
              "      <td>2017-Q3</td>\n",
              "      <td>23162.8</td>\n",
              "      <td>Q3</td>\n",
              "      <td>0</td>\n",
              "      <td>0</td>\n",
              "      <td>1</td>\n",
              "      <td>0</td>\n",
              "      <td>95</td>\n",
              "      <td>9025</td>\n",
              "      <td>10.050303</td>\n",
              "      <td>23657.018797</td>\n",
              "    </tr>\n",
              "    <tr>\n",
              "      <th>95</th>\n",
              "      <td>2017-Q4</td>\n",
              "      <td>23253.4</td>\n",
              "      <td>Q4</td>\n",
              "      <td>0</td>\n",
              "      <td>0</td>\n",
              "      <td>0</td>\n",
              "      <td>1</td>\n",
              "      <td>96</td>\n",
              "      <td>9216</td>\n",
              "      <td>10.054207</td>\n",
              "      <td>23543.543379</td>\n",
              "    </tr>\n",
              "    <tr>\n",
              "      <th>96</th>\n",
              "      <td>2018-Q1</td>\n",
              "      <td>22341.0</td>\n",
              "      <td>Q1</td>\n",
              "      <td>1</td>\n",
              "      <td>0</td>\n",
              "      <td>0</td>\n",
              "      <td>0</td>\n",
              "      <td>97</td>\n",
              "      <td>9409</td>\n",
              "      <td>10.014179</td>\n",
              "      <td>23430.067961</td>\n",
              "    </tr>\n",
              "    <tr>\n",
              "      <th>97</th>\n",
              "      <td>2018-Q2</td>\n",
              "      <td>22628.2</td>\n",
              "      <td>Q2</td>\n",
              "      <td>0</td>\n",
              "      <td>1</td>\n",
              "      <td>0</td>\n",
              "      <td>0</td>\n",
              "      <td>98</td>\n",
              "      <td>9604</td>\n",
              "      <td>10.026952</td>\n",
              "      <td>23316.592544</td>\n",
              "    </tr>\n",
              "    <tr>\n",
              "      <th>98</th>\n",
              "      <td>2018-Q3</td>\n",
              "      <td>22552.9</td>\n",
              "      <td>Q3</td>\n",
              "      <td>0</td>\n",
              "      <td>0</td>\n",
              "      <td>1</td>\n",
              "      <td>0</td>\n",
              "      <td>99</td>\n",
              "      <td>9801</td>\n",
              "      <td>10.023619</td>\n",
              "      <td>23203.117126</td>\n",
              "    </tr>\n",
              "    <tr>\n",
              "      <th>99</th>\n",
              "      <td>2018-Q4</td>\n",
              "      <td>22504.0</td>\n",
              "      <td>Q4</td>\n",
              "      <td>0</td>\n",
              "      <td>0</td>\n",
              "      <td>0</td>\n",
              "      <td>1</td>\n",
              "      <td>100</td>\n",
              "      <td>10000</td>\n",
              "      <td>10.021448</td>\n",
              "      <td>23089.641708</td>\n",
              "    </tr>\n",
              "    <tr>\n",
              "      <th>100</th>\n",
              "      <td>2019-Q1</td>\n",
              "      <td>20682.0</td>\n",
              "      <td>Q1</td>\n",
              "      <td>1</td>\n",
              "      <td>0</td>\n",
              "      <td>0</td>\n",
              "      <td>0</td>\n",
              "      <td>101</td>\n",
              "      <td>10201</td>\n",
              "      <td>9.937019</td>\n",
              "      <td>22976.166290</td>\n",
              "    </tr>\n",
              "    <tr>\n",
              "      <th>101</th>\n",
              "      <td>2019-Q2</td>\n",
              "      <td>20491.9</td>\n",
              "      <td>Q2</td>\n",
              "      <td>0</td>\n",
              "      <td>1</td>\n",
              "      <td>0</td>\n",
              "      <td>0</td>\n",
              "      <td>102</td>\n",
              "      <td>10404</td>\n",
              "      <td>9.927785</td>\n",
              "      <td>22862.690872</td>\n",
              "    </tr>\n",
              "  </tbody>\n",
              "</table>\n",
              "</div>"
            ],
            "text/plain": [
              "     quarter    value Quarter  Q1  ...    t  t_square  log_value  forecasted_value\n",
              "82   2014-Q3  23965.3      Q3   0  ...   83      6889  10.084362      25018.723811\n",
              "83   2014-Q4  23474.8      Q4   0  ...   84      7056  10.063683      24905.248393\n",
              "84   2015-Q1  23384.8      Q1   1  ...   85      7225  10.059842      24791.772975\n",
              "85   2015-Q2  23808.7      Q2   0  ...   86      7396  10.077806      24678.297557\n",
              "86   2015-Q3  24311.7      Q3   0  ...   87      7569  10.098713      24564.822139\n",
              "87   2015-Q4  25315.1      Q4   0  ...   88      7744  10.139156      24451.346722\n",
              "88   2016-Q1  23129.9      Q1   1  ...   89      7921  10.048881      24337.871304\n",
              "89   2016-Q2  23324.9      Q2   0  ...   90      8100  10.057277      24224.395886\n",
              "90   2016-Q3  23889.9      Q3   0  ...   91      8281  10.081211      24110.920468\n",
              "91   2016-Q4  23206.6      Q4   0  ...   92      8464  10.052192      23997.445050\n",
              "92   2017-Q1  21934.5      Q1   1  ...   93      8649   9.995816      23883.969633\n",
              "93   2017-Q2  22573.1      Q2   0  ...   94      8836  10.024514      23770.494215\n",
              "94   2017-Q3  23162.8      Q3   0  ...   95      9025  10.050303      23657.018797\n",
              "95   2017-Q4  23253.4      Q4   0  ...   96      9216  10.054207      23543.543379\n",
              "96   2018-Q1  22341.0      Q1   1  ...   97      9409  10.014179      23430.067961\n",
              "97   2018-Q2  22628.2      Q2   0  ...   98      9604  10.026952      23316.592544\n",
              "98   2018-Q3  22552.9      Q3   0  ...   99      9801  10.023619      23203.117126\n",
              "99   2018-Q4  22504.0      Q4   0  ...  100     10000  10.021448      23089.641708\n",
              "100  2019-Q1  20682.0      Q1   1  ...  101     10201   9.937019      22976.166290\n",
              "101  2019-Q2  20491.9      Q2   0  ...  102     10404   9.927785      22862.690872\n",
              "\n",
              "[20 rows x 11 columns]"
            ]
          },
          "metadata": {
            "tags": []
          },
          "execution_count": 56
        }
      ]
    },
    {
      "cell_type": "code",
      "metadata": {
        "id": "6l2d6eKYJ1yZ"
      },
      "source": [
        ""
      ],
      "execution_count": null,
      "outputs": []
    }
  ]
}